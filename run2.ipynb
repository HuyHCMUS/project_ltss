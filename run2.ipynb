{
  "cells": [
    {
      "cell_type": "markdown",
      "metadata": {
        "id": "view-in-github",
        "colab_type": "text"
      },
      "source": [
        "<a href=\"https://colab.research.google.com/github/HuyHCMUS/project_ltss/blob/master/run2.ipynb\" target=\"_parent\"><img src=\"https://colab.research.google.com/assets/colab-badge.svg\" alt=\"Open In Colab\"/></a>"
      ]
    },
    {
      "cell_type": "code",
      "execution_count": 5,
      "metadata": {
        "colab": {
          "base_uri": "https://localhost:8080/"
        },
        "id": "9sgu1pqmc6Qq",
        "outputId": "3d870dc6-7eab-4d9c-ab55-fa2edd2bdea6"
      },
      "outputs": [
        {
          "output_type": "stream",
          "name": "stdout",
          "text": [
            "Mounted at /content/drive\n"
          ]
        }
      ],
      "source": [
        "from google.colab import drive\n",
        "drive.mount('/content/drive')"
      ]
    },
    {
      "cell_type": "code",
      "execution_count": 6,
      "metadata": {
        "colab": {
          "base_uri": "https://localhost:8080/"
        },
        "id": "FKCWQXZBdNJ2",
        "outputId": "f61bea6d-4f70-4cea-dffb-ca74f0f55b33"
      },
      "outputs": [
        {
          "output_type": "stream",
          "name": "stdout",
          "text": [
            "/content/drive/MyDrive/mini-dnn-cpp\n"
          ]
        }
      ],
      "source": [
        "%cd /content/drive/MyDrive/mini-dnn-cpp"
      ]
    },
    {
      "cell_type": "code",
      "execution_count": null,
      "metadata": {
        "colab": {
          "base_uri": "https://localhost:8080/"
        },
        "id": "dWDANoU-dR60",
        "outputId": "d3552fc0-ecca-4587-b18e-aadfcd066ac5"
      },
      "outputs": [
        {
          "name": "stdout",
          "output_type": "stream",
          "text": [
            "/content/drive/MyDrive/mini-dnn-cpp/build\n"
          ]
        }
      ],
      "source": [
        "!mkdir build\n",
        "%cd build"
      ]
    },
    {
      "cell_type": "code",
      "execution_count": null,
      "metadata": {
        "colab": {
          "base_uri": "https://localhost:8080/"
        },
        "id": "OpgLGqTZdUYD",
        "outputId": "ec0f6933-0993-41b6-d76c-fef39d28abf9"
      },
      "outputs": [
        {
          "name": "stdout",
          "output_type": "stream",
          "text": [
            "\u001b[0mCMake Deprecation Warning at CMakeLists.txt:1 (cmake_minimum_required):\n",
            "  Compatibility with CMake < 3.5 will be removed from a future version of\n",
            "  CMake.\n",
            "\n",
            "  Update the VERSION argument <min> value or use a ...<max> suffix to tell\n",
            "  CMake that the project does not need compatibility with older versions.\n",
            "\n",
            "\u001b[0m\n",
            "-- The C compiler identification is GNU 11.4.0\n",
            "-- The CXX compiler identification is GNU 11.4.0\n",
            "-- Detecting C compiler ABI info\n",
            "-- Detecting C compiler ABI info - done\n",
            "-- Check for working C compiler: /usr/bin/cc - skipped\n",
            "-- Detecting C compile features\n",
            "-- Detecting C compile features - done\n",
            "-- Detecting CXX compiler ABI info\n",
            "-- Detecting CXX compiler ABI info - done\n",
            "-- Check for working CXX compiler: /usr/bin/c++ - skipped\n",
            "-- Detecting CXX compile features\n",
            "-- Detecting CXX compile features - done\n",
            "-- Configuring done (3.1s)\n",
            "-- Generating done (0.3s)\n",
            "-- Build files have been written to: /content/drive/MyDrive/mini-dnn-cpp/build\n",
            "[ -6%] \u001b[32mBuilding CXX object src/CMakeFiles/MiniDNNLib.dir/mnist.cc.o\u001b[0m\n",
            "[  0%] \u001b[32mBuilding CXX object src/CMakeFiles/MiniDNNLib.dir/network.cc.o\u001b[0m\n",
            "[  6%] \u001b[32mBuilding CXX object src/CMakeFiles/MiniDNNLib.dir/layer/ave_pooling.cc.o\u001b[0m\n",
            "[ 13%] \u001b[32mBuilding CXX object src/CMakeFiles/MiniDNNLib.dir/layer/conv.cc.o\u001b[0m\n",
            "[ 20%] \u001b[32mBuilding CXX object src/CMakeFiles/MiniDNNLib.dir/layer/fully_connected.cc.o\u001b[0m\n",
            "[ 26%] \u001b[32mBuilding CXX object src/CMakeFiles/MiniDNNLib.dir/layer/max_pooling.cc.o\u001b[0m\n",
            "[ 33%] \u001b[32mBuilding CXX object src/CMakeFiles/MiniDNNLib.dir/layer/relu.cc.o\u001b[0m\n",
            "[ 40%] \u001b[32mBuilding CXX object src/CMakeFiles/MiniDNNLib.dir/layer/sigmoid.cc.o\u001b[0m\n",
            "[ 46%] \u001b[32mBuilding CXX object src/CMakeFiles/MiniDNNLib.dir/layer/softmax.cc.o\u001b[0m\n",
            "[ 53%] \u001b[32mBuilding CXX object src/CMakeFiles/MiniDNNLib.dir/loss/cross_entropy_loss.cc.o\u001b[0m\n",
            "[ 60%] \u001b[32mBuilding CXX object src/CMakeFiles/MiniDNNLib.dir/loss/mse_loss.cc.o\u001b[0m\n",
            "[ 66%] \u001b[32mBuilding CXX object src/CMakeFiles/MiniDNNLib.dir/optimizer/sgd.cc.o\u001b[0m\n",
            "[ 73%] \u001b[32m\u001b[1mLinking CXX static library libMiniDNNLib.a\u001b[0m\n",
            "[ 73%] Built target MiniDNNLib\n",
            "[ 80%] \u001b[32mBuilding CXX object CMakeFiles/demo.dir/demo.cc.o\u001b[0m\n",
            "[ 86%] \u001b[32m\u001b[1mLinking CXX executable demo\u001b[0m\n",
            "[ 86%] Built target demo\n"
          ]
        }
      ],
      "source": [
        "!cmake ..\n",
        "!make"
      ]
    },
    {
      "cell_type": "code",
      "execution_count": null,
      "metadata": {
        "colab": {
          "base_uri": "https://localhost:8080/"
        },
        "id": "noW5eNTRd6OM",
        "outputId": "f4418d7b-6c1b-4611-dfa4-29f58cb4294d"
      },
      "outputs": [
        {
          "output_type": "stream",
          "name": "stdout",
          "text": [
            "mnist train number: 60000\n",
            "mnist test number: 10000\n",
            "0-th batch, loss: 2.30217\n",
            "50-th batch, loss: 2.3031\n",
            "100-th batch, loss: 2.3004\n",
            "150-th batch, loss: 2.30136\n",
            "200-th batch, loss: 2.29618\n",
            "250-th batch, loss: 2.2829\n",
            "300-th batch, loss: 1.90509\n",
            "350-th batch, loss: 0.603127\n",
            "400-th batch, loss: 0.335416\n",
            "450-th batch, loss: 0.23443\n",
            "\n",
            "1-th epoch, test acc: 0.9146\n",
            "\n",
            "0-th batch, loss: 0.354542\n",
            "50-th batch, loss: 0.228444\n",
            "100-th batch, loss: 0.131954\n",
            "150-th batch, loss: 0.110524\n",
            "200-th batch, loss: 0.143763\n",
            "250-th batch, loss: 0.263087\n",
            "300-th batch, loss: 0.105119\n",
            "350-th batch, loss: 0.120148\n",
            "400-th batch, loss: 0.123074\n",
            "450-th batch, loss: 0.114843\n",
            "\n",
            "2-th epoch, test acc: 0.9634\n",
            "\n",
            "0-th batch, loss: 0.0962432\n",
            "50-th batch, loss: 0.0980601\n",
            "100-th batch, loss: 0.127678\n",
            "150-th batch, loss: 0.13527\n",
            "200-th batch, loss: 0.0956395\n",
            "250-th batch, loss: 0.076831\n",
            "300-th batch, loss: 0.116416\n",
            "350-th batch, loss: 0.115276\n",
            "400-th batch, loss: 0.0723094\n",
            "450-th batch, loss: 0.0559415\n",
            "\n",
            "3-th epoch, test acc: 0.9625\n",
            "\n",
            "0-th batch, loss: 0.106011\n",
            "50-th batch, loss: 0.0710517\n",
            "100-th batch, loss: 0.095206\n",
            "150-th batch, loss: 0.0720363\n",
            "200-th batch, loss: 0.0632274\n",
            "250-th batch, loss: 0.0768391\n",
            "300-th batch, loss: 0.139483\n",
            "350-th batch, loss: 0.0733548\n",
            "400-th batch, loss: 0.116364\n",
            "450-th batch, loss: 0.0469178\n",
            "\n",
            "4-th epoch, test acc: 0.9772\n",
            "\n",
            "0-th batch, loss: 0.089608\n",
            "50-th batch, loss: 0.0639032\n",
            "100-th batch, loss: 0.0958363\n",
            "150-th batch, loss: 0.123613\n",
            "200-th batch, loss: 0.0194552\n",
            "250-th batch, loss: 0.0532817\n",
            "300-th batch, loss: 0.0485539\n",
            "350-th batch, loss: 0.102219\n",
            "400-th batch, loss: 0.0617658\n",
            "450-th batch, loss: 0.049831\n",
            "\n",
            "5-th epoch, test acc: 0.977\n",
            "\n"
          ]
        }
      ],
      "source": [
        "!./demo"
      ]
    }
  ],
  "metadata": {
    "colab": {
      "provenance": [],
      "authorship_tag": "ABX9TyMs8Bosw28wubatCA2qzo2m",
      "include_colab_link": true
    },
    "kernelspec": {
      "display_name": "Python 3",
      "name": "python3"
    },
    "language_info": {
      "name": "python"
    }
  },
  "nbformat": 4,
  "nbformat_minor": 0
}